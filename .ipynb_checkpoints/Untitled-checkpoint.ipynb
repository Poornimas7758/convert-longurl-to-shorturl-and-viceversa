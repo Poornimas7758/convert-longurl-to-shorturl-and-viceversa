{
 "cells": [
  {
   "cell_type": "code",
   "execution_count": 2,
   "id": "61321358",
   "metadata": {},
   "outputs": [],
   "source": [
    "import pandas as pd"
   ]
  },
  {
   "cell_type": "code",
   "execution_count": 3,
   "id": "daa8be3d",
   "metadata": {},
   "outputs": [
    {
     "data": {
      "text/html": [
       "<div>\n",
       "<style scoped>\n",
       "    .dataframe tbody tr th:only-of-type {\n",
       "        vertical-align: middle;\n",
       "    }\n",
       "\n",
       "    .dataframe tbody tr th {\n",
       "        vertical-align: top;\n",
       "    }\n",
       "\n",
       "    .dataframe thead th {\n",
       "        text-align: right;\n",
       "    }\n",
       "</style>\n",
       "<table border=\"1\" class=\"dataframe\">\n",
       "  <thead>\n",
       "    <tr style=\"text-align: right;\">\n",
       "      <th></th>\n",
       "      <th>longurls</th>\n",
       "    </tr>\n",
       "  </thead>\n",
       "  <tbody>\n",
       "    <tr>\n",
       "      <th>0</th>\n",
       "      <td>https://www.google.com/search?q=genuine+url+da...</td>\n",
       "    </tr>\n",
       "    <tr>\n",
       "      <th>1</th>\n",
       "      <td>https://www.culturalindia.net/reformers/</td>\n",
       "    </tr>\n",
       "    <tr>\n",
       "      <th>2</th>\n",
       "      <td>https://byjus.com/free-ias-prep/19th-century-s...</td>\n",
       "    </tr>\n",
       "    <tr>\n",
       "      <th>3</th>\n",
       "      <td>https://starsunfolded.com/top-10-male-social-r...</td>\n",
       "    </tr>\n",
       "    <tr>\n",
       "      <th>4</th>\n",
       "      <td>https://ieeexplore.ieee.org/document/9528814</td>\n",
       "    </tr>\n",
       "    <tr>\n",
       "      <th>5</th>\n",
       "      <td>https://ieeexplore.ieee.org/document/9515730</td>\n",
       "    </tr>\n",
       "    <tr>\n",
       "      <th>6</th>\n",
       "      <td>https://www.jagranjosh.com/general-knowledge/s...</td>\n",
       "    </tr>\n",
       "  </tbody>\n",
       "</table>\n",
       "</div>"
      ],
      "text/plain": [
       "                                            longurls\n",
       "0  https://www.google.com/search?q=genuine+url+da...\n",
       "1           https://www.culturalindia.net/reformers/\n",
       "2  https://byjus.com/free-ias-prep/19th-century-s...\n",
       "3  https://starsunfolded.com/top-10-male-social-r...\n",
       "4       https://ieeexplore.ieee.org/document/9528814\n",
       "5       https://ieeexplore.ieee.org/document/9515730\n",
       "6  https://www.jagranjosh.com/general-knowledge/s..."
      ]
     },
     "execution_count": 3,
     "metadata": {},
     "output_type": "execute_result"
    }
   ],
   "source": [
    "df=pd.read_excel(\"longurls.xlsx\")\n",
    "df"
   ]
  },
  {
   "cell_type": "code",
   "execution_count": 4,
   "id": "7bb9e6c4",
   "metadata": {},
   "outputs": [],
   "source": [
    "def idToShortURL(id):\n",
    "    map = \"abcdefghijklmnopqrstuvwxyzABCDEFGHIJKLMNOPQRSTUVWXYZ0123456789\"\n",
    "    shortURL = \"\"\n",
    "      \n",
    "    # for each digit find the base 62\n",
    "    while(id > 0):\n",
    "        shortURL += map[id % 62]\n",
    "        id //= 62\n",
    "  \n",
    "    # reversing the shortURL\n",
    "    return shortURL[len(shortURL): : -1]  \n"
   ]
  },
  {
   "cell_type": "code",
   "execution_count": 5,
   "id": "59fbba9c",
   "metadata": {},
   "outputs": [
    {
     "data": {
      "text/html": [
       "<div>\n",
       "<style scoped>\n",
       "    .dataframe tbody tr th:only-of-type {\n",
       "        vertical-align: middle;\n",
       "    }\n",
       "\n",
       "    .dataframe tbody tr th {\n",
       "        vertical-align: top;\n",
       "    }\n",
       "\n",
       "    .dataframe thead th {\n",
       "        text-align: right;\n",
       "    }\n",
       "</style>\n",
       "<table border=\"1\" class=\"dataframe\">\n",
       "  <thead>\n",
       "    <tr style=\"text-align: right;\">\n",
       "      <th></th>\n",
       "      <th>longurls</th>\n",
       "      <th>ID</th>\n",
       "      <th>shortURL</th>\n",
       "    </tr>\n",
       "  </thead>\n",
       "  <tbody>\n",
       "    <tr>\n",
       "      <th>0</th>\n",
       "      <td>https://www.google.com/search?q=genuine+url+da...</td>\n",
       "      <td>482957</td>\n",
       "      <td>http://ced.ly/cbNN</td>\n",
       "    </tr>\n",
       "    <tr>\n",
       "      <th>1</th>\n",
       "      <td>https://www.culturalindia.net/reformers/</td>\n",
       "      <td>592353</td>\n",
       "      <td>http://ced.ly/cEgf</td>\n",
       "    </tr>\n",
       "    <tr>\n",
       "      <th>2</th>\n",
       "      <td>https://byjus.com/free-ias-prep/19th-century-s...</td>\n",
       "      <td>793193</td>\n",
       "      <td>http://ced.ly/duvB</td>\n",
       "    </tr>\n",
       "    <tr>\n",
       "      <th>3</th>\n",
       "      <td>https://starsunfolded.com/top-10-male-social-r...</td>\n",
       "      <td>965325</td>\n",
       "      <td>http://ced.ly/edhV</td>\n",
       "    </tr>\n",
       "    <tr>\n",
       "      <th>4</th>\n",
       "      <td>https://ieeexplore.ieee.org/document/9528814</td>\n",
       "      <td>462387</td>\n",
       "      <td>http://ced.ly/b6r1</td>\n",
       "    </tr>\n",
       "  </tbody>\n",
       "</table>\n",
       "</div>"
      ],
      "text/plain": [
       "                                            longurls      ID  \\\n",
       "0  https://www.google.com/search?q=genuine+url+da...  482957   \n",
       "1           https://www.culturalindia.net/reformers/  592353   \n",
       "2  https://byjus.com/free-ias-prep/19th-century-s...  793193   \n",
       "3  https://starsunfolded.com/top-10-male-social-r...  965325   \n",
       "4       https://ieeexplore.ieee.org/document/9528814  462387   \n",
       "\n",
       "             shortURL  \n",
       "0  http://ced.ly/cbNN  \n",
       "1  http://ced.ly/cEgf  \n",
       "2  http://ced.ly/duvB  \n",
       "3  http://ced.ly/edhV  \n",
       "4  http://ced.ly/b6r1  "
      ]
     },
     "execution_count": 5,
     "metadata": {},
     "output_type": "execute_result"
    }
   ],
   "source": [
    "ID = pd.Series([],dtype=float)\n",
    "short_url=pd.Series([],dtype=float)\n",
    "import random\n",
    "for i in range(len(df)):\n",
    "    ID[i] = random.randint(100000,999999)\n",
    "    short_url[i]=\"http://ced.ly/\" + idToShortURL(ID[i])\n",
    "    \n",
    "df.insert(1, \"ID\", ID)\n",
    "df.insert(2,\"shortURL\",short_url)\n",
    " \n",
    "# list output\n",
    "df.head()"
   ]
  },
  {
   "cell_type": "code",
   "execution_count": 6,
   "id": "fe1bf0f2",
   "metadata": {},
   "outputs": [],
   "source": [
    "def shortURLToId(shortURL):\n",
    "    id = 0\n",
    "    x=shortURL\n",
    "    y=x[14:]\n",
    "    for i in y:        \n",
    "        val_i = ord(i)\n",
    "        if(val_i >= ord('a') and val_i <= ord('z')):\n",
    "            id = id*62 + val_i - ord('a')\n",
    "        elif(val_i >= ord('A') and val_i <= ord('Z')):\n",
    "            id = id*62 + val_i - ord('Z') + 26\n",
    "        else:\n",
    "            id = id*62 + val_i - ord('0') + 52\n",
    "    return id"
   ]
  },
  {
   "cell_type": "code",
   "execution_count": 7,
   "id": "3fccd45a",
   "metadata": {},
   "outputs": [
    {
     "data": {
      "text/plain": [
       "'http://ced.ly/cbNN'"
      ]
     },
     "execution_count": 7,
     "metadata": {},
     "output_type": "execute_result"
    }
   ],
   "source": [
    "def longToShort(longURL):\n",
    "    for i in range(len(df)):\n",
    "        if df['longurls'][i]==longURL:\n",
    "            return df['shortURL'][i]\n",
    "        else:\n",
    "            return \"ERROR 404\"\n",
    "y=longToShort(\"https://www.google.com/search?q=genuine+url+dataset+kaggle&rlz=1C1GCEA_enIN913IN913&sxsrf=ALiCzsaCfPOhmXSK2eLfiSVwdeb9GTlmAA%3A1657725604371&ei=pOLOYoSqFumE4-EPsPqJgAU&ved=0ahUKEwiEjKKOlfb4AhVpwjgGHTB9AlAQ4dUDCA4&oq=genuine+url+dataset+kaggle&gs_lcp=Cgdnd3Mtd2l6EAw6BwgAEEcQsAM6BwgjELACECc6BQgAEIYDSgQIQRgASgQIRhgAUJ8OWNYjYK89aAFwAHgAgAGEAogB_wuSAQUwLjQuNJgBAKABAcgBCMABAQ&sclient=gws-wiz\")\n",
    "y       \n",
    "    "
   ]
  },
  {
   "cell_type": "code",
   "execution_count": 9,
   "id": "585d7d20",
   "metadata": {},
   "outputs": [
    {
     "data": {
      "text/plain": [
       "'https://www.google.com/search?q=genuine+url+dataset+kaggle&rlz=1C1GCEA_enIN913IN913&sxsrf=ALiCzsaCfPOhmXSK2eLfiSVwdeb9GTlmAA%3A1657725604371&ei=pOLOYoSqFumE4-EPsPqJgAU&ved=0ahUKEwiEjKKOlfb4AhVpwjgGHTB9AlAQ4dUDCA4&oq=genuine+url+dataset+kaggle&gs_lcp=Cgdnd3Mtd2l6EAw6BwgAEEcQsAM6BwgjELACECc6BQgAEIYDSgQIQRgASgQIRhgAUJ8OWNYjYK89aAFwAHgAgAGEAogB_wuSAQUwLjQuNJgBAKABAcgBCMABAQ&sclient=gws-wiz'"
      ]
     },
     "execution_count": 9,
     "metadata": {},
     "output_type": "execute_result"
    }
   ],
   "source": [
    "def shortToLong(shortURL):\n",
    "    for i in range(len(df)):\n",
    "        if df['shortURL'][i]==shortURL:\n",
    "            return df['longurls'][i]\n",
    "        else:\n",
    "            return \"ERROR 404\"\n",
    "z=shortToLong('http://ced.ly/cbNN')\n",
    "z"
   ]
  },
  {
   "cell_type": "code",
   "execution_count": null,
   "id": "d47ad156",
   "metadata": {},
   "outputs": [],
   "source": []
  }
 ],
 "metadata": {
  "kernelspec": {
   "display_name": "Python 3 (ipykernel)",
   "language": "python",
   "name": "python3"
  },
  "language_info": {
   "codemirror_mode": {
    "name": "ipython",
    "version": 3
   },
   "file_extension": ".py",
   "mimetype": "text/x-python",
   "name": "python",
   "nbconvert_exporter": "python",
   "pygments_lexer": "ipython3",
   "version": "3.9.12"
  }
 },
 "nbformat": 4,
 "nbformat_minor": 5
}
